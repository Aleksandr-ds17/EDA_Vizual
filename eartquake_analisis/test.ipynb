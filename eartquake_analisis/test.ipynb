{
 "cells": [
  {
   "cell_type": "code",
   "execution_count": 1,
   "metadata": {},
   "outputs": [
    {
     "ename": "NameError",
     "evalue": "name 'df' is not defined",
     "output_type": "error",
     "traceback": [
      "\u001b[1;31m---------------------------------------------------------------------------\u001b[0m",
      "\u001b[1;31mNameError\u001b[0m                                 Traceback (most recent call last)",
      "Cell \u001b[1;32mIn[1], line 21\u001b[0m\n\u001b[0;32m     18\u001b[0m     \u001b[38;5;28;01mreturn\u001b[39;00m df\u001b[38;5;241m.\u001b[39mloc[index_min_distance]\n\u001b[0;32m     20\u001b[0m \u001b[38;5;66;03m# I don't use it only because it's not optimal 24682 strings * 4020 missng val for region\u001b[39;00m\n\u001b[1;32m---> 21\u001b[0m missing_values_df \u001b[38;5;241m=\u001b[39m \u001b[43mdf\u001b[49m[df[\u001b[38;5;124m'\u001b[39m\u001b[38;5;124mregion\u001b[39m\u001b[38;5;124m'\u001b[39m]\u001b[38;5;241m.\u001b[39misnull()] \n\u001b[0;32m     22\u001b[0m \u001b[38;5;66;03m# I choose df with target missing values, and applyed func, and inserted to all data\u001b[39;00m\n\u001b[0;32m     23\u001b[0m df\u001b[38;5;241m.\u001b[39mloc[missing_values_df\u001b[38;5;241m.\u001b[39mindex, \u001b[38;5;124m'\u001b[39m\u001b[38;5;124mregion\u001b[39m\u001b[38;5;124m'\u001b[39m] \u001b[38;5;241m=\u001b[39m missing_values_df\u001b[38;5;241m.\u001b[39mapply(\u001b[38;5;28;01mlambda\u001b[39;00m row: closest_reg(row, df), axis\u001b[38;5;241m=\u001b[39m\u001b[38;5;241m1\u001b[39m)\n",
      "\u001b[1;31mNameError\u001b[0m: name 'df' is not defined"
     ]
    }
   ],
   "source": [
    "import math\n",
    "def closest_reg(row, df): # already if I have missing values for this row and df which has row\n",
    "    \n",
    "    def distance_two(lat_a, lat_b, lon_a, lon_b):\n",
    "        return math.sqrt((lat_b - lat_a)**2 + (lon_b - lon_a)**2)\n",
    "    \n",
    "    # later I will take row, as columns\n",
    "    lat_for_row = row['latitude']\n",
    "    lon_for_row = row['longitude']\n",
    "    for_comparing_as_min = 99999\n",
    "    index_min_distance = None\n",
    "    \n",
    "    # I will have df without missing values, and latitude, longitude with missng row\n",
    "    for index, row in df.iterrows():\n",
    "        if distance_two(row['latitude'], lat_for_row, row['longitude'],lon_for_row) < for_comparing_as_min: # calculate distance\n",
    "            index_min_distance = index\n",
    "            for_comparing_as_min = distance_two(row['latitude'], lat_for_row, row['longitude'],lon_for_row) \n",
    "    return df.loc[index_min_distance]\n",
    "\n",
    "# I don't use it only because it's not optimal 24682 strings * 4020 missng val for region\n",
    "missing_values_df = df[df['region'].isnull()] \n",
    "# I choose df with target missing values, and applyed func, and inserted to all data\n",
    "df.loc[missing_values_df.index, 'region'] = missing_values_df.apply(lambda row: closest_reg(row, df), axis=1)"
   ]
  }
 ],
 "metadata": {
  "kernelspec": {
   "display_name": "Python 3",
   "language": "python",
   "name": "python3"
  },
  "language_info": {
   "codemirror_mode": {
    "name": "ipython",
    "version": 3
   },
   "file_extension": ".py",
   "mimetype": "text/x-python",
   "name": "python",
   "nbconvert_exporter": "python",
   "pygments_lexer": "ipython3",
   "version": "3.11.7"
  }
 },
 "nbformat": 4,
 "nbformat_minor": 2
}
