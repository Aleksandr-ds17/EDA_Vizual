{
 "cells": [
  {
   "cell_type": "code",
   "execution_count": 11,
   "metadata": {},
   "outputs": [],
   "source": [
    "import pandas as pd\n",
    "import numpy as np\n",
    "import matplotlib.pyplot as plt\n",
    "import seaborn as sns\n",
    "import geopy\n",
    "df = pd.read_csv('earthquakes_2023_global.csv')\n",
    "\n",
    "df['time'] = pd.to_datetime(df['time'].apply(lambda x: x[:-5]))\n",
    "df['updated'] = pd.to_datetime(df['updated'].apply(lambda x: x[:-5]))\n",
    "df.drop_duplicates( inplace= True)\n",
    "# df['hour'] == df['hour'].astype('int8') everything is True I can change\n",
    "df['hour'] = df['time'].dt.hour.astype('int8')\n",
    "df['month'] = df['time'].dt.month_name().astype('category')\n",
    "df[['magType', 'net']] = df[['magType', 'net']].astype('category')\n",
    "\n",
    "df['nst'].fillna(0, inplace=True) # I took NaN as 0, nobody reported (calculated localy)\n",
    "df['nst'] = df['nst'].astype('int16') # df['nst'] == df['nst'].astype('int16')\n",
    "\n",
    "# Too much RAM for these features, I also will calculate errors\n",
    "df[['latitude', 'longitude', 'depth', 'gap', 'dmin', 'rms']] = \\\n",
    "    df[['latitude', 'longitude', 'depth', 'gap', 'dmin', 'rms']].astype('float32')\n",
    "\n",
    "''' \n",
    "-- After float16 it gives me 3.099609 this kind numbers, if round it I will get back float64 type -- \n",
    "df['mag'] = df['mag'].astype('float16').apply(lambda x: round(x, 2)) \n",
    "'''\n",
    "# df['id'] = df['id'].apply(lambda x: x[:2]) --> df['id'] == df['net'] \n",
    "df.drop('id', axis = 1, inplace= True)"
   ]
  },
  {
   "cell_type": "code",
   "execution_count": 12,
   "metadata": {},
   "outputs": [
    {
     "data": {
      "text/plain": [
       "Index(['time', 'latitude', 'longitude', 'depth', 'mag', 'magType', 'nst',\n",
       "       'gap', 'dmin', 'rms', 'net', 'updated', 'place', 'type',\n",
       "       'horizontalError', 'depthError', 'magError', 'magNst', 'status',\n",
       "       'locationSource', 'magSource', 'hour', 'month'],\n",
       "      dtype='object')"
      ]
     },
     "execution_count": 12,
     "metadata": {},
     "output_type": "execute_result"
    }
   ],
   "source": [
    "df.columns"
   ]
  },
  {
   "cell_type": "code",
   "execution_count": 13,
   "metadata": {},
   "outputs": [],
   "source": [
    "def clean_place(x):\n",
    "    \n",
    "    def check_num(y):\n",
    "        sigh = False\n",
    "        for i in y:\n",
    "            if i.isdigit():\n",
    "                sigh = True\n",
    "        return sigh\n",
    "    \n",
    "    def taking_km(y):\n",
    "        y = y.split(' ')\n",
    "        if any(char.isdigit() for char in y[0]) and any(char.isalpha() for char in y[0]):\n",
    "            km_till_e = y[0][:-2] + ' ' + y[1]\n",
    "            reg_from_km = ' '.join(y[3:])\n",
    "        else:   \n",
    "            km_till_e = y[0] + ' ' + y[2]\n",
    "            reg_from_km = ' '.join(y[4:])\n",
    "        return km_till_e, reg_from_km\n",
    "    region = None\n",
    "    km_till_earq = None\n",
    "    country = None\n",
    "    \n",
    "    if ',' in x:\n",
    "        splitted = x.split(',')\n",
    "        if len(splitted) == 3:\n",
    "           country =  splitted[2]\n",
    "           if check_num(splitted[0]):\n",
    "                km_till_earq, region = taking_km(splitted[0])\n",
    "           else:\n",
    "               region = splitted[1] + ',' + splitted[0]\n",
    "        if len(splitted) == 2:\n",
    "            if 'reg' not in splitted[1]:\n",
    "                country = splitted[1]\n",
    "            else:\n",
    "                region = splitted[1]\n",
    "            if check_num(splitted[0]):\n",
    "                km_till_earq, region = taking_km(splitted[0])\n",
    "    else:\n",
    "        if check_num(x):\n",
    "            km_till_earq, region = taking_km(x)   \n",
    "        if 'reg' not in x:\n",
    "                country = x\n",
    "        else:\n",
    "            region = x         \n",
    "    return region, km_till_earq, country\n",
    "df['place'].fillna(' ', inplace= True)\n",
    "df[['region', 'km', 'country']] = df['place'].apply(lambda x: pd.Series(clean_place(x)))\n",
    "        "
   ]
  }
 ],
 "metadata": {
  "kernelspec": {
   "display_name": "Python 3",
   "language": "python",
   "name": "python3"
  },
  "language_info": {
   "codemirror_mode": {
    "name": "ipython",
    "version": 3
   },
   "file_extension": ".py",
   "mimetype": "text/x-python",
   "name": "python",
   "nbconvert_exporter": "python",
   "pygments_lexer": "ipython3",
   "version": "3.11.7"
  }
 },
 "nbformat": 4,
 "nbformat_minor": 2
}
