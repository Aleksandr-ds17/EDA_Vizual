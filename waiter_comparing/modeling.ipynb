{
 "cells": [
  {
   "cell_type": "code",
   "execution_count": 540,
   "metadata": {},
   "outputs": [],
   "source": [
    "import pandas as pd\n",
    "from datetime import datetime, timedelta\n",
    "import numpy as np\n",
    "from itertools import cycle\n",
    "from scipy.stats import kruskal\n",
    "\n",
    "\n",
    "\n",
    "np.random.seed(42)"
   ]
  },
  {
   "cell_type": "code",
   "execution_count": 541,
   "metadata": {},
   "outputs": [],
   "source": [
    "start_data, end_data = datetime(2022,6,1),datetime(2022,8,1)\n",
    "df = pd.DataFrame({'date': [start_data + timedelta(days=i) for i in range((end_data - start_data).days + 1)]})\n",
    "# to generate around these values +- 10 % \n",
    "value_intervals = {0: 650, 1: 720, 2: 1600, 3: 1500, 4: 2200, 5: 2200, 6: 1400}\n",
    "# income of company to start from it to  generate random num of tables and income for every waiter, will be deleted\n",
    "df['fake_income'] = df['date'].dt.weekday.map(lambda x: np.random.uniform(value_intervals[x] * 0.9,value_intervals[x] * 1.1)).map(\\\n",
    "    lambda x: round(x,2))\n",
    "df['day_of_week'] = df['date'].dt.weekday\n",
    "waiters_shifts = [cycle([1, 1, 0, 0]), cycle([0, 1, 1, 0]), cycle([0, 0, 1, 1]), cycle([1, 0, 0, 1])]\n",
    "\n",
    "# creating work shifts as 1 working day 0 not\n",
    "for i in range(4):\n",
    "    df['work_shif_w_{}'.format(i)] = [next(waiters_shifts[i]) for _ in range(len(df))]\n",
    "    \n",
    "# in the shift 2 waiters, fake income/2 if waiter works\n",
    "for i in range(4):\n",
    "    df['work_shif_w_{}'.format(i)] = df.apply(lambda row: row['fake_income'] / 2 if row['work_shif_w_{}'.format(i)] != 0 else 0, axis=1)\n",
    "    \n",
    "# to give them a bit of random chaos in income +- 10 %\n",
    "for i in range(4):\n",
    "    df['work_shif_w_{}'.format(i)] = df['work_shif_w_{}'.format(i)].apply(lambda x: round(np.random.uniform(x*0.9, x*1.1),2))\n",
    "\n",
    "df.drop(['fake_income','day_of_week' ], axis = 1, inplace = True)\n",
    "\n",
    "# to generate tables for every waiter with average bill is 26 EUR\n",
    "for i in range(4):\n",
    "    df['tables_waiter_{}'.format(i)] = df['work_shif_w_{}'.format(i)].apply(lambda x: round(x/26))\n",
    "\n",
    "# to generate new average bill\n",
    "for i in range(4):\n",
    "    df['average_bill_w_{}'.format(i)] = df.apply(lambda row, i=i: row['work_shif_w_{}'.format(i)] /\\\n",
    "        row['tables_waiter_{}'.format(i)] if row['work_shif_w_{}'.format(i)] != 0 else 0, axis=1).map(lambda x: round(x,2))\n",
    "\n",
    "# 3rd waiter has bigger average bill 0-10%\n",
    "df['average_bill_w_2'] = df['average_bill_w_2'].apply(lambda x: round(np.random.uniform(x, x*1.1),2))\n",
    "df['work_shif_w_2'] = df['average_bill_w_2'] * df['tables_waiter_2']\n",
    "\n",
    "# 4th waiter has bigger average bill 5-15%\n",
    "df['average_bill_w_3'] = df['average_bill_w_3'].apply(lambda x: round(np.random.uniform(x*1.05, x*1.15),2))\n",
    "df['work_shif_w_3'] = df['average_bill_w_3'] * df['tables_waiter_3']"
   ]
  },
  {
   "attachments": {
    "image.png": {
     "image/png": "[encoded data removed]"
    }
   },
   "cell_type": "markdown",
   "metadata": {},
   "source": [
    "![image.png](attachment:image.png), criteria kruskall wallis equal to $χ^2$, if groups not too small else use their tables"
   ]
  },
  {
   "cell_type": "code",
   "execution_count": 542,
   "metadata": {},
   "outputs": [
    {
     "name": "stdout",
     "output_type": "stream",
     "text": [
      "For Monday , Calculation via income , Statistic: 2.43 , p-value: 0.49\n",
      "For Monday , Calculation via table , Statistic: 0.77 , p-value: 0.86\n",
      "For Monday , Calculation via average_bill , Statistic: 10.22 , p-value: 0.02\n",
      "For Tuesday , Calculation via income , Statistic: 9.4 , p-value: 0.02\n",
      "For Tuesday , Calculation via table , Statistic: 2.59 , p-value: 0.46\n",
      "For Tuesday , Calculation via average_bill , Statistic: 9.75 , p-value: 0.02\n",
      "For Wednesday , Calculation via income , Statistic: 12.48 , p-value: 0.01\n",
      "For Wednesday , Calculation via table , Statistic: 10.47 , p-value: 0.01\n",
      "For Wednesday , Calculation via average_bill , Statistic: 12.22 , p-value: 0.01\n",
      "For Thursday , Calculation via income , Statistic: 3.06 , p-value: 0.38\n",
      "For Thursday , Calculation via table , Statistic: 0.54 , p-value: 0.91\n",
      "For Thursday , Calculation via average_bill , Statistic: 9.92 , p-value: 0.02\n",
      "For Friday , Calculation via income , Statistic: 9.63 , p-value: 0.02\n",
      "For Friday , Calculation via table , Statistic: 6.48 , p-value: 0.09\n",
      "For Friday , Calculation via average_bill , Statistic: 12.03 , p-value: 0.01\n",
      "For Saturday , Calculation via income , Statistic: 3.92 , p-value: 0.27\n",
      "For Saturday , Calculation via table , Statistic: 2.24 , p-value: 0.52\n",
      "For Saturday , Calculation via average_bill , Statistic: 13.72 , p-value: 0.0\n",
      "For Sunday , Calculation via income , Statistic: 4.91 , p-value: 0.18\n",
      "For Sunday , Calculation via table , Statistic: 0.75 , p-value: 0.86\n",
      "For Sunday , Calculation via average_bill , Statistic: 14.44 , p-value: 0.0\n"
     ]
    }
   ],
   "source": [
    "from scipy.stats import kruskal\n",
    "\n",
    "calculation_list = ['work_shif_w_', 'tables_waiter_', 'average_bill_w_']\n",
    "interpirtation = {'work_shif_w_':'income','tables_waiter_':'table','average_bill_w_':'average_bill'}\n",
    "days_of_week_dict = {0: 'Monday',1: 'Tuesday',2: 'Wednesday',\n",
    "                    3: 'Thursday',4: 'Friday',5: 'Saturday', 6: 'Sunday'}\n",
    "\n",
    "\n",
    "\n",
    "# I will have 7 experiments: Monday - Sunday and 4 waiters (groups) and 3 calculations = 28 experements\n",
    "for i in range(7): # 7 days\n",
    "    for j in range(3): # 3 calculation(income, average, tables)\n",
    "        list_of_values_per_waiter = [] # list [day,calculation type, waiter, his list by filter]\n",
    "        for z in range(4): # by waiters\n",
    "            # to get list from folter day calculation and waiter\n",
    "            x = df[(df[calculation_list[j] + str(z)] != 0) & (df['date'].dt.weekday == i)][calculation_list[j] + str(z)].tolist()\n",
    "            list_of_values_per_waiter.append(x)    \n",
    "            \n",
    "            \n",
    "            \n",
    "        statistic, p_value = kruskal(*list_of_values_per_waiter)\n",
    "        print('For',days_of_week_dict[i], \", Calculation via\", interpirtation[calculation_list[j]],\", Statistic:\", round(statistic,2),\", p-value:\", round(p_value,2))"
   ]
  }
 ],
 "metadata": {
  "kernelspec": {
   "display_name": "Python 3",
   "language": "python",
   "name": "python3"
  },
  "language_info": {
   "codemirror_mode": {
    "name": "ipython",
    "version": 3
   },
   "file_extension": ".py",
   "mimetype": "text/x-python",
   "name": "python",
   "nbconvert_exporter": "python",
   "pygments_lexer": "ipython3",
   "version": "3.11.7"
  }
 },
 "nbformat": 4,
 "nbformat_minor": 2
}
